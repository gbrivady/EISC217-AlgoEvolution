{
 "cells": [
  {
   "cell_type": "markdown",
   "metadata": {
    "slideshow": {
     "slide_type": "slide"
    }
   },
   "source": [
    "<img src=\"../imgs/logo.png\" width=\"20%\" align=\"right\" style=\"margin:0px 20px\">\n",
    "\n",
    "\n",
    "# Evolutionary Computation\n",
    "\n",
    "## 5.3 Deep Neuroevolution\n",
    "\n",
    "<a rel=\"license\" href=\"http://creativecommons.org/licenses/by-sa/4.0/\"><img alt=\"Creative Commons License\" align=\"left\" src=\"https://i.creativecommons.org/l/by-sa/4.0/80x15.png\" /></a>&nbsp;| Dennis G. Wilson | <a href=\"https://d9w.github.io/evolution/\">https://d9w.github.io/evolution/</a>"
   ]
  },
  {
   "cell_type": "markdown",
   "metadata": {
    "slideshow": {
     "slide_type": "slide"
    }
   },
   "source": [
    "# Deep Neuroevolution\n",
    "\n",
    "Artificial neural networks are commonly used today in many applications, from phone apps to automatic piloting systems to search engines. These machine learning models contain many parameters and are usually optimized with stochastic gradient descent. However, evolutionary strategies can also be a great tool for optimizing neural network parameters, especially when there isn't a clear direction the training of the network should take. This is the case for reinforcement learning, so we'll look at a classic RL task in this section.\n",
    "\n",
    "Because of the success of deep learning, where neural network architectures are \"deep\" by having many layers, this field is sometimes called deep neuroevolution. However, remember from tutorial 4 that researchers have been evolving neural networks long before the advent of deep learning."
   ]
  },
  {
   "cell_type": "markdown",
   "metadata": {
    "slideshow": {
     "slide_type": "slide"
    }
   },
   "source": [
    "In today's notebook, I'll be using some Python RL environments and using PyCall to interact with them in Julia."
   ]
  },
  {
   "cell_type": "code",
   "execution_count": 2,
   "metadata": {
    "slideshow": {
     "slide_type": "fragment"
    }
   },
   "outputs": [
    {
     "name": "stderr",
     "output_type": "stream",
     "text": [
      "┌ Info: Precompiling PyCall [438e738f-606a-5dbb-bf0a-cddfbfd45ab0]\n",
      "└ @ Base loading.jl:1278\n"
     ]
    }
   ],
   "source": [
    "using PyCall\n",
    "using Conda"
   ]
  },
  {
   "cell_type": "code",
   "execution_count": 3,
   "metadata": {
    "scrolled": true,
    "slideshow": {
     "slide_type": "fragment"
    }
   },
   "outputs": [
    {
     "name": "stderr",
     "output_type": "stream",
     "text": [
      "┌ Info: Downloading miniconda installer ...\n",
      "└ @ Conda /home/gbrivady/.julia/packages/Conda/x2UxR/src/Conda.jl:193\n",
      "┌ Info: Installing miniconda ...\n",
      "└ @ Conda /home/gbrivady/.julia/packages/Conda/x2UxR/src/Conda.jl:203\n"
     ]
    },
    {
     "name": "stdout",
     "output_type": "stream",
     "text": [
      "PREFIX=/home/gbrivady/.julia/conda/3\n",
      "Unpacking payload ...\n",
      "Extracting \"urllib3-1.26.9-pyhd8ed1ab_0.tar.bz2\"\n",
      "Extracting \"python-3.9.10-h85951f9_2_cpython.tar.bz2\"\n",
      "Extracting \"ca-certificates-2021.10.8-ha878542_0.tar.bz2\"\n",
      "Extracting \"ruamel_yaml-0.15.80-py39h3811e60_1006.tar.bz2\"\n",
      "Extracting \"certifi-2021.10.8-py39hf3d152e_1.tar.bz2\"\n",
      "Extracting \"zlib-1.2.11-h36c2ea0_1013.tar.bz2\"\n",
      "Extracting \"_libgcc_mutex-0.1-conda_forge.tar.bz2\"\n",
      "Extracting \"libzlib-1.2.11-h36c2ea0_1013.tar.bz2\"\n",
      "Extracting \"tqdm-4.63.0-pyhd8ed1ab_0.tar.bz2\"\n",
      "Extracting \"six-1.16.0-pyh6c4a22f_0.tar.bz2\"\n",
      "Extracting \"libuuid-2.32.1-h7f98852_1000.tar.bz2\"\n",
      "Extracting \"conda-package-handling-1.8.0-py39hb9d737c_0.tar.bz2\"\n",
      "Extracting \"libgcc-ng-11.2.0-h1d223b6_14.tar.bz2\"\n",
      "Extracting \"ld_impl_linux-64-2.36.1-hea4e1c9_2.tar.bz2\"\n",
      "Extracting \"xz-5.2.5-h516909a_1.tar.bz2\"\n",
      "Extracting \"pycosat-0.6.3-py39h3811e60_1009.tar.bz2\"\n",
      "Extracting \"pysocks-1.7.1-py39hf3d152e_4.tar.bz2\"\n",
      "Extracting \"colorama-0.4.4-pyh9f0ad1d_0.tar.bz2\"\n",
      "Extracting \"tk-8.6.12-h27826a3_0.tar.bz2\"\n",
      "Extracting \"idna-3.3-pyhd8ed1ab_0.tar.bz2\"\n",
      "Extracting \"python_abi-3.9-2_cp39.tar.bz2\"\n",
      "Extracting \"pycparser-2.21-pyhd8ed1ab_0.tar.bz2\"\n",
      "Extracting \"requests-2.27.1-pyhd8ed1ab_0.tar.bz2\"\n",
      "Extracting \"sqlite-3.37.1-h4ff8645_0.tar.bz2\"\n",
      "Extracting \"_openmp_mutex-4.5-1_gnu.tar.bz2\"\n",
      "Extracting \"pyopenssl-22.0.0-pyhd8ed1ab_0.tar.bz2\"\n",
      "Extracting \"pip-22.0.4-pyhd8ed1ab_0.tar.bz2\"\n",
      "Extracting \"wheel-0.37.1-pyhd8ed1ab_0.tar.bz2\"\n",
      "Extracting \"setuptools-60.10.0-py39hf3d152e_0.tar.bz2\"\n",
      "Extracting \"libgomp-11.2.0-h1d223b6_14.tar.bz2\"\n",
      "Extracting \"conda-4.12.0-py39hf3d152e_0.tar.bz2\"\n",
      "Extracting \"readline-8.1-h46c0cb4_0.tar.bz2\"\n",
      "Extracting \"libnsl-2.0.0-h7f98852_0.tar.bz2\"\n",
      "Extracting \"ncurses-6.3-h9c3ff4c_0.tar.bz2\"\n",
      "Extracting \"cryptography-36.0.2-py39hd97740a_0.tar.bz2\"\n",
      "Extracting \"libffi-3.4.2-h7f98852_5.tar.bz2\"\n",
      "Extracting \"bzip2-1.0.8-h7f98852_4.tar.bz2\"\n",
      "Extracting \"brotlipy-0.7.0-py39h3811e60_1003.tar.bz2\"\n",
      "Extracting \"cffi-1.15.0-py39h4bc2ebd_0.tar.bz2\"\n",
      "Extracting \"charset-normalizer-2.0.12-pyhd8ed1ab_0.tar.bz2\"\n",
      "Extracting \"yaml-0.2.5-h7f98852_2.tar.bz2\"\n",
      "Extracting \"tzdata-2022a-h191b570_0.tar.bz2\"\n",
      "Extracting \"openssl-1.1.1l-h7f98852_0.tar.bz2\"\n",
      "\n",
      "                                           __\n",
      "          __  ______ ___  ____ _____ ___  / /_  ____ _\n",
      "         / / / / __ `__ \\/ __ `/ __ `__ \\/ __ \\/ __ `/\n",
      "        / /_/ / / / / / / /_/ / / / / / / /_/ / /_/ /\n",
      "       / .___/_/ /_/ /_/\\__,_/_/ /_/ /_/_.___/\\__,_/\n",
      "      /_/\n",
      "\n",
      "conda-forge/linux-64                                        Using cache\n",
      "conda-forge/noarch                                          Using cache\n",
      "\n",
      "Transaction\n",
      "\n",
      "  Prefix: /home/gbrivady/.julia/conda/3\n",
      "\n",
      "  Updating specs:\n",
      "\n",
      "   - python==3.9.10=h85951f9_2_cpython\n",
      "   - _libgcc_mutex==0.1=conda_forge\n",
      "   - ca-certificates==2021.10.8=ha878542_0\n",
      "   - ld_impl_linux-64==2.36.1=hea4e1c9_2\n",
      "   - tzdata==2022a=h191b570_0\n",
      "   - libgomp==11.2.0=h1d223b6_14\n",
      "   - _openmp_mutex==4.5=1_gnu\n",
      "   - libgcc-ng==11.2.0=h1d223b6_14\n",
      "   - bzip2==1.0.8=h7f98852_4\n",
      "   - libffi==3.4.2=h7f98852_5\n",
      "   - libnsl==2.0.0=h7f98852_0\n",
      "   - libuuid==2.32.1=h7f98852_1000\n",
      "   - libzlib==1.2.11=h36c2ea0_1013\n",
      "   - ncurses==6.3=h9c3ff4c_0\n",
      "   - openssl==1.1.1l=h7f98852_0\n",
      "   - xz==5.2.5=h516909a_1\n",
      "   - yaml==0.2.5=h7f98852_2\n",
      "   - readline==8.1=h46c0cb4_0\n",
      "   - tk==8.6.12=h27826a3_0\n",
      "   - zlib==1.2.11=h36c2ea0_1013\n",
      "   - sqlite==3.37.1=h4ff8645_0\n",
      "   - charset-normalizer==2.0.12=pyhd8ed1ab_0\n",
      "   - colorama==0.4.4=pyh9f0ad1d_0\n",
      "   - idna==3.3=pyhd8ed1ab_0\n",
      "   - pycparser==2.21=pyhd8ed1ab_0\n",
      "   - python_abi==3.9=2_cp39\n",
      "   - six==1.16.0=pyh6c4a22f_0\n",
      "   - wheel==0.37.1=pyhd8ed1ab_0\n",
      "   - certifi==2021.10.8=py39hf3d152e_1\n",
      "   - cffi==1.15.0=py39h4bc2ebd_0\n",
      "   - pycosat==0.6.3=py39h3811e60_1009\n",
      "   - pysocks==1.7.1=py39hf3d152e_4\n",
      "   - ruamel_yaml==0.15.80=py39h3811e60_1006\n",
      "   - setuptools==60.10.0=py39hf3d152e_0\n",
      "   - tqdm==4.63.0=pyhd8ed1ab_0\n",
      "   - brotlipy==0.7.0=py39h3811e60_1003\n",
      "   - conda-package-handling==1.8.0=py39hb9d737c_0\n",
      "   - cryptography==36.0.2=py39hd97740a_0\n",
      "   - pip==22.0.4=pyhd8ed1ab_0\n",
      "   - pyopenssl==22.0.0=pyhd8ed1ab_0\n",
      "   - urllib3==1.26.9=pyhd8ed1ab_0\n",
      "   - requests==2.27.1=pyhd8ed1ab_0\n",
      "   - conda==4.12.0=py39hf3d152e_0\n",
      "\n",
      "\n",
      "  Package                     Version  Build               Channel                    Size\n",
      "────────────────────────────────────────────────────────────────────────────────────────────\n",
      "  Install:\n",
      "────────────────────────────────────────────────────────────────────────────────────────────\n",
      "\n",
      "  + _libgcc_mutex                 0.1  conda_forge         conda-forge/linux-64     Cached\n",
      "  + _openmp_mutex                 4.5  1_gnu               conda-forge/linux-64     Cached\n",
      "  + brotlipy                    0.7.0  py39h3811e60_1003   conda-forge/linux-64     Cached\n",
      "  + bzip2                       1.0.8  h7f98852_4          conda-forge/linux-64     Cached\n",
      "  + ca-certificates         2021.10.8  ha878542_0          conda-forge/linux-64     Cached\n",
      "  + certifi                 2021.10.8  py39hf3d152e_1      conda-forge/linux-64     Cached\n",
      "  + cffi                       1.15.0  py39h4bc2ebd_0      conda-forge/linux-64     Cached\n",
      "  + charset-normalizer         2.0.12  pyhd8ed1ab_0        conda-forge/noarch       Cached\n",
      "  + colorama                    0.4.4  pyh9f0ad1d_0        conda-forge/noarch       Cached\n",
      "  + conda                      4.12.0  py39hf3d152e_0      conda-forge/linux-64     Cached\n",
      "  + conda-package-handling      1.8.0  py39hb9d737c_0      conda-forge/linux-64     Cached\n",
      "  + cryptography               36.0.2  py39hd97740a_0      conda-forge/linux-64     Cached\n",
      "  + idna                          3.3  pyhd8ed1ab_0        conda-forge/noarch       Cached\n",
      "  + ld_impl_linux-64           2.36.1  hea4e1c9_2          conda-forge/linux-64     Cached\n",
      "  + libffi                      3.4.2  h7f98852_5          conda-forge/linux-64     Cached\n",
      "  + libgcc-ng                  11.2.0  h1d223b6_14         conda-forge/linux-64     Cached\n",
      "  + libgomp                    11.2.0  h1d223b6_14         conda-forge/linux-64     Cached\n",
      "  + libnsl                      2.0.0  h7f98852_0          conda-forge/linux-64     Cached\n",
      "  + libuuid                    2.32.1  h7f98852_1000       conda-forge/linux-64     Cached\n",
      "  + libzlib                    1.2.11  h36c2ea0_1013       conda-forge/linux-64     Cached\n",
      "  + ncurses                       6.3  h9c3ff4c_0          conda-forge/linux-64     Cached\n",
      "  + openssl                    1.1.1l  h7f98852_0          conda-forge/linux-64     Cached\n",
      "  + pip                        22.0.4  pyhd8ed1ab_0        conda-forge/noarch       Cached\n",
      "  + pycosat                     0.6.3  py39h3811e60_1009   conda-forge/linux-64     Cached\n",
      "  + pycparser                    2.21  pyhd8ed1ab_0        conda-forge/noarch       Cached\n",
      "  + pyopenssl                  22.0.0  pyhd8ed1ab_0        conda-forge/noarch       Cached\n",
      "  + pysocks                     1.7.1  py39hf3d152e_4      conda-forge/linux-64     Cached\n",
      "  + python                     3.9.10  h85951f9_2_cpython  conda-forge/linux-64     Cached\n",
      "  + python_abi                    3.9  2_cp39              conda-forge/linux-64     Cached\n",
      "  + readline                      8.1  h46c0cb4_0          conda-forge/linux-64     Cached\n",
      "  + requests                   2.27.1  pyhd8ed1ab_0        conda-forge/noarch       Cached\n",
      "  + ruamel_yaml               0.15.80  py39h3811e60_1006   conda-forge/linux-64     Cached\n",
      "  + setuptools                60.10.0  py39hf3d152e_0      conda-forge/linux-64     Cached\n",
      "  + six                        1.16.0  pyh6c4a22f_0        conda-forge/noarch       Cached\n",
      "  + sqlite                     3.37.1  h4ff8645_0          conda-forge/linux-64     Cached\n",
      "  + tk                         8.6.12  h27826a3_0          conda-forge/linux-64     Cached\n",
      "  + tqdm                       4.63.0  pyhd8ed1ab_0        conda-forge/noarch       Cached\n",
      "  + tzdata                      2022a  h191b570_0          conda-forge/noarch       Cached\n",
      "  + urllib3                    1.26.9  pyhd8ed1ab_0        conda-forge/noarch       Cached\n",
      "  + wheel                      0.37.1  pyhd8ed1ab_0        conda-forge/noarch       Cached\n",
      "  + xz                          5.2.5  h516909a_1          conda-forge/linux-64     Cached\n",
      "  + yaml                        0.2.5  h7f98852_2          conda-forge/linux-64     Cached\n",
      "  + zlib                       1.2.11  h36c2ea0_1013       conda-forge/linux-64     Cached\n",
      "\n",
      "  Summary:\n",
      "\n",
      "  Install: 43 packages\n",
      "\n",
      "  Total download: 0 B\n",
      "\n",
      "────────────────────────────────────────────────────────────────────────────────────────────\n",
      "\n",
      "\n",
      "Transaction starting\n",
      "Linking _libgcc_mutex-0.1-conda_forge\n",
      "Linking ca-certificates-2021.10.8-ha878542_0\n",
      "Linking ld_impl_linux-64-2.36.1-hea4e1c9_2\n",
      "Linking libgomp-11.2.0-h1d223b6_14\n",
      "Linking _openmp_mutex-4.5-1_gnu\n",
      "Linking libgcc-ng-11.2.0-h1d223b6_14\n",
      "Linking yaml-0.2.5-h7f98852_2\n",
      "Linking xz-5.2.5-h516909a_1\n",
      "Linking openssl-1.1.1l-h7f98852_0\n",
      "Linking ncurses-6.3-h9c3ff4c_0\n",
      "Linking libzlib-1.2.11-h36c2ea0_1013\n",
      "Linking libuuid-2.32.1-h7f98852_1000\n",
      "Linking libnsl-2.0.0-h7f98852_0\n",
      "Linking libffi-3.4.2-h7f98852_5\n",
      "Linking bzip2-1.0.8-h7f98852_4\n",
      "Linking readline-8.1-h46c0cb4_0\n",
      "Linking zlib-1.2.11-h36c2ea0_1013\n",
      "Linking tk-8.6.12-h27826a3_0\n",
      "Linking sqlite-3.37.1-h4ff8645_0\n",
      "Linking tzdata-2022a-h191b570_0\n",
      "Linking python-3.9.10-h85951f9_2_cpython\n",
      "Linking python_abi-3.9-2_cp39\n",
      "Linking setuptools-60.10.0-py39hf3d152e_0\n",
      "Linking wheel-0.37.1-pyhd8ed1ab_0\n",
      "Linking pip-22.0.4-pyhd8ed1ab_0\n",
      "Linking six-1.16.0-pyh6c4a22f_0\n",
      "Linking pycparser-2.21-pyhd8ed1ab_0\n",
      "Linking idna-3.3-pyhd8ed1ab_0\n",
      "Linking colorama-0.4.4-pyh9f0ad1d_0\n",
      "Linking charset-normalizer-2.0.12-pyhd8ed1ab_0\n",
      "Linking tqdm-4.63.0-pyhd8ed1ab_0\n",
      "Linking ruamel_yaml-0.15.80-py39h3811e60_1006\n",
      "Linking pysocks-1.7.1-py39hf3d152e_4\n",
      "Linking pycosat-0.6.3-py39h3811e60_1009\n",
      "Linking certifi-2021.10.8-py39hf3d152e_1\n",
      "Linking cffi-1.15.0-py39h4bc2ebd_0\n",
      "Linking conda-package-handling-1.8.0-py39hb9d737c_0\n",
      "Linking cryptography-36.0.2-py39hd97740a_0\n",
      "Linking brotlipy-0.7.0-py39h3811e60_1003\n",
      "Linking pyopenssl-22.0.0-pyhd8ed1ab_0\n",
      "Linking urllib3-1.26.9-pyhd8ed1ab_0\n",
      "Linking requests-2.27.1-pyhd8ed1ab_0\n",
      "Linking conda-4.12.0-py39hf3d152e_0\n",
      "Transaction finished\n",
      "installation finished.\n"
     ]
    },
    {
     "name": "stderr",
     "output_type": "stream",
     "text": [
      "┌ Info: Running `conda install -y gym` in root environment\n",
      "└ @ Conda /home/gbrivady/.julia/packages/Conda/x2UxR/src/Conda.jl:127\n"
     ]
    },
    {
     "name": "stdout",
     "output_type": "stream",
     "text": [
      "Collecting package metadata (current_repodata.json): ...working... done\n",
      "Solving environment: ...working... done\n",
      "\n",
      "## Package Plan ##\n",
      "\n",
      "  environment location: /home/gbrivady/.julia/conda/3\n",
      "\n",
      "  added / updated specs:\n",
      "    - gym\n",
      "\n",
      "\n",
      "The following packages will be downloaded:\n",
      "\n",
      "    package                    |            build\n",
      "    ---------------------------|-----------------\n",
      "    certifi-2021.10.8          |   py39hf3d152e_2         145 KB  conda-forge\n",
      "    cloudpickle-2.0.0          |     pyhd8ed1ab_0          24 KB  conda-forge\n",
      "    gym-0.21.0                 |   py39hef51801_2         1.8 MB  conda-forge\n",
      "    libblas-3.9.0              |14_linux64_openblas          12 KB  conda-forge\n",
      "    libcblas-3.9.0             |14_linux64_openblas          12 KB  conda-forge\n",
      "    libgfortran-ng-11.2.0      |      h69a702a_15          23 KB  conda-forge\n",
      "    libgfortran5-11.2.0        |      h5c6108e_15         1.7 MB  conda-forge\n",
      "    liblapack-3.9.0            |14_linux64_openblas          12 KB  conda-forge\n",
      "    libopenblas-0.3.20         |pthreads_h78a6416_0        10.1 MB  conda-forge\n",
      "    libstdcxx-ng-11.2.0        |      he4da1e4_15         4.2 MB  conda-forge\n",
      "    numpy-1.22.3               |   py39h18676bf_2         6.8 MB  conda-forge\n",
      "    openssl-1.1.1n             |       h166bdaf_0         2.1 MB  conda-forge\n",
      "    ------------------------------------------------------------\n",
      "                                           Total:        26.9 MB\n",
      "\n",
      "The following NEW packages will be INSTALLED:\n",
      "\n",
      "  cloudpickle        conda-forge/noarch::cloudpickle-2.0.0-pyhd8ed1ab_0\n",
      "  gym                conda-forge/linux-64::gym-0.21.0-py39hef51801_2\n",
      "  libblas            conda-forge/linux-64::libblas-3.9.0-14_linux64_openblas\n",
      "  libcblas           conda-forge/linux-64::libcblas-3.9.0-14_linux64_openblas\n",
      "  libgfortran-ng     conda-forge/linux-64::libgfortran-ng-11.2.0-h69a702a_15\n",
      "  libgfortran5       conda-forge/linux-64::libgfortran5-11.2.0-h5c6108e_15\n",
      "  liblapack          conda-forge/linux-64::liblapack-3.9.0-14_linux64_openblas\n",
      "  libopenblas        conda-forge/linux-64::libopenblas-0.3.20-pthreads_h78a6416_0\n",
      "  libstdcxx-ng       conda-forge/linux-64::libstdcxx-ng-11.2.0-he4da1e4_15\n",
      "  numpy              conda-forge/linux-64::numpy-1.22.3-py39h18676bf_2\n",
      "\n",
      "The following packages will be UPDATED:\n",
      "\n",
      "  certifi                          2021.10.8-py39hf3d152e_1 --> 2021.10.8-py39hf3d152e_2\n",
      "  openssl                                 1.1.1l-h7f98852_0 --> 1.1.1n-h166bdaf_0\n",
      "\n",
      "\n",
      "\n",
      "Downloading and Extracting Packages\n",
      "gym-0.21.0           | 1.8 MB    | #################################### | 100% \n",
      "libcblas-3.9.0       | 12 KB     | #################################### | 100% \n",
      "cloudpickle-2.0.0    | 24 KB     | #################################### | 100% \n",
      "libblas-3.9.0        | 12 KB     | #################################### | 100% \n",
      "certifi-2021.10.8    | 145 KB    | #################################### | 100% \n",
      "libstdcxx-ng-11.2.0  | 4.2 MB    | #################################### | 100% \n",
      "libopenblas-0.3.20   | 10.1 MB   | #################################### | 100% \n",
      "libgfortran-ng-11.2. | 23 KB     | #################################### | 100% \n",
      "openssl-1.1.1n       | 2.1 MB    | #################################### | 100% \n",
      "liblapack-3.9.0      | 12 KB     | #################################### | 100% \n",
      "libgfortran5-11.2.0  | 1.7 MB    | #################################### | 100% \n",
      "numpy-1.22.3         | 6.8 MB    | #################################### | 100% \n",
      "Preparing transaction: ...working... done\n",
      "Verifying transaction: ...working... done\n",
      "Executing transaction: ...working... done\n"
     ]
    }
   ],
   "source": [
    "Conda.add(\"gym\")"
   ]
  },
  {
   "cell_type": "markdown",
   "metadata": {
    "slideshow": {
     "slide_type": "slide"
    }
   },
   "source": [
    "I'll also select a random seed. This means that whenever I generate random numbers, they'll follow a defined sequence. Finally, I'll import all of the code from the CMA-ES notebook, which I've put in a separate file."
   ]
  },
  {
   "cell_type": "code",
   "execution_count": 4,
   "metadata": {
    "slideshow": {
     "slide_type": "fragment"
    }
   },
   "outputs": [],
   "source": [
    "import Random\n",
    "Random.seed!(1234);"
   ]
  },
  {
   "cell_type": "code",
   "execution_count": 5,
   "metadata": {
    "slideshow": {
     "slide_type": "fragment"
    }
   },
   "outputs": [],
   "source": [
    "include(\"cmaes.jl\");"
   ]
  },
  {
   "cell_type": "markdown",
   "metadata": {
    "slideshow": {
     "slide_type": "slide"
    }
   },
   "source": [
    "Let's make a simple neural network. Remember the model of a neuron which multiplies inputs by synaptic weights then adds a bias. We'll construct a network with two internal, or hidden, layers. These layers will be fully connected - every neuron will connect to every other one in the next layer.\n",
    "\n",
    "<img src=\"../imgs/neuron_model.jpeg\" width=\"50%\">\n",
    "<img src=\"../imgs/cnn.png\" width=\"50%\">"
   ]
  },
  {
   "cell_type": "code",
   "execution_count": 6,
   "metadata": {
    "slideshow": {
     "slide_type": "slide"
    }
   },
   "outputs": [],
   "source": [
    "struct FCLayer\n",
    "    w::Array{Float64}\n",
    "    b::Array{Float64}\n",
    "end\n",
    "\n",
    "struct SimpleANN\n",
    "    l1::FCLayer\n",
    "    l2::FCLayer\n",
    "    out::FCLayer\n",
    "end"
   ]
  },
  {
   "cell_type": "markdown",
   "metadata": {
    "slideshow": {
     "slide_type": "slide"
    }
   },
   "source": [
    "We can write a construction method which just uses zeros as all weights and biases. We'll fill these with the genetic information later."
   ]
  },
  {
   "cell_type": "code",
   "execution_count": 7,
   "metadata": {
    "slideshow": {
     "slide_type": "fragment"
    }
   },
   "outputs": [
    {
     "data": {
      "text/plain": [
       "SimpleANN"
      ]
     },
     "execution_count": 7,
     "metadata": {},
     "output_type": "execute_result"
    }
   ],
   "source": [
    "function SimpleANN(input::Int, N1::Int, N2::Int, output::Int)\n",
    "    l1 = FCLayer(zeros(N1, input), zeros(N1))\n",
    "    l2 = FCLayer(zeros(N2, N1), zeros(N2))\n",
    "    out = FCLayer(zeros(output, N2), zeros(output))\n",
    "    SimpleANN(l1, l2, out)\n",
    "end"
   ]
  },
  {
   "cell_type": "markdown",
   "metadata": {
    "slideshow": {
     "slide_type": "slide"
    }
   },
   "source": [
    "Finally, we'll use our network to compute, passing an input in before the first layer and recording the activation of the output layer"
   ]
  },
  {
   "cell_type": "code",
   "execution_count": 8,
   "metadata": {
    "slideshow": {
     "slide_type": "fragment"
    }
   },
   "outputs": [],
   "source": [
    "ann = SimpleANN(5, 64, 64, 4);"
   ]
  },
  {
   "cell_type": "code",
   "execution_count": 9,
   "metadata": {
    "slideshow": {
     "slide_type": "fragment"
    }
   },
   "outputs": [
    {
     "data": {
      "text/plain": [
       "compute (generic function with 1 method)"
      ]
     },
     "execution_count": 9,
     "metadata": {},
     "output_type": "execute_result"
    }
   ],
   "source": [
    "function compute(inputs::Array{Float64}, ann::SimpleANN)\n",
    "    x = ann.l1.w * inputs .+ ann.l1.b\n",
    "    x = ann.l2.w * x .+ ann.l2.b\n",
    "    x = ann.out.w * x .+ ann.out.b\n",
    "    x\n",
    "end"
   ]
  },
  {
   "cell_type": "markdown",
   "metadata": {
    "slideshow": {
     "slide_type": "slide"
    }
   },
   "source": [
    "Since all weights and biases are zeros, if we pass in zeros we should also get out zeros."
   ]
  },
  {
   "cell_type": "code",
   "execution_count": 10,
   "metadata": {
    "slideshow": {
     "slide_type": "fragment"
    }
   },
   "outputs": [
    {
     "data": {
      "text/plain": [
       "4-element Array{Float64,1}:\n",
       " 0.0\n",
       " 0.0\n",
       " 0.0\n",
       " 0.0"
      ]
     },
     "execution_count": 10,
     "metadata": {},
     "output_type": "execute_result"
    }
   ],
   "source": [
    "compute(zeros(5), ann)"
   ]
  },
  {
   "cell_type": "markdown",
   "metadata": {
    "slideshow": {
     "slide_type": "slide"
    }
   },
   "source": [
    "Now that we have an ANN, let's test it. We'll evaluate individuals in the CartPole environment, where they must balance a pole on a cart to keep it upright. The actions our agent can take are to move the cart either right or left."
   ]
  },
  {
   "cell_type": "code",
   "execution_count": 11,
   "metadata": {
    "slideshow": {
     "slide_type": "fragment"
    }
   },
   "outputs": [
    {
     "ename": "LoadError",
     "evalue": "\u001b[91mPyError (PyImport_ImportModule\u001b[39m\n\n\u001b[91mThe Python package gym could not be imported by pyimport. Usually this means\u001b[39m\n\u001b[91mthat you did not install gym in the Python version being used by PyCall.\u001b[39m\n\n\u001b[91mPyCall is currently configured to use the Python version at:\u001b[39m\n\n\u001b[91m/usr/bin/python3\u001b[39m\n\n\u001b[91mand you should use whatever mechanism you usually use (apt-get, pip, conda,\u001b[39m\n\u001b[91metcetera) to install the Python package containing the gym module.\u001b[39m\n\n\u001b[91mOne alternative is to re-configure PyCall to use a different Python\u001b[39m\n\u001b[91mversion on your system: set ENV[\"PYTHON\"] to the path/name of the python\u001b[39m\n\u001b[91mexecutable you want to use, run Pkg.build(\"PyCall\"), and re-launch Julia.\u001b[39m\n\n\u001b[91mAnother alternative is to configure PyCall to use a Julia-specific Python\u001b[39m\n\u001b[91mdistribution via the Conda.jl package (which installs a private Anaconda\u001b[39m\n\u001b[91mPython distribution), which has the advantage that packages can be installed\u001b[39m\n\u001b[91mand kept up-to-date via Julia.  As explained in the PyCall documentation,\u001b[39m\n\u001b[91mset ENV[\"PYTHON\"]=\"\", run Pkg.build(\"PyCall\"), and re-launch Julia. Then,\u001b[39m\n\u001b[91mTo install the gym module, you can use `pyimport_conda(\"gym\", PKG)`,\u001b[39m\n\u001b[91mwhere PKG is the Anaconda package that contains the module gym,\u001b[39m\n\u001b[91mor alternatively you can use the Conda package directly (via\u001b[39m\n\u001b[91m`using Conda` followed by `Conda.add` etcetera).\u001b[39m\n\n\u001b[91m) <class 'ModuleNotFoundError'>\u001b[39m\n\u001b[91mModuleNotFoundError(\"No module named 'gym'\")\u001b[39m\n",
     "output_type": "error",
     "traceback": [
      "\u001b[91mPyError (PyImport_ImportModule\u001b[39m\n\n\u001b[91mThe Python package gym could not be imported by pyimport. Usually this means\u001b[39m\n\u001b[91mthat you did not install gym in the Python version being used by PyCall.\u001b[39m\n\n\u001b[91mPyCall is currently configured to use the Python version at:\u001b[39m\n\n\u001b[91m/usr/bin/python3\u001b[39m\n\n\u001b[91mand you should use whatever mechanism you usually use (apt-get, pip, conda,\u001b[39m\n\u001b[91metcetera) to install the Python package containing the gym module.\u001b[39m\n\n\u001b[91mOne alternative is to re-configure PyCall to use a different Python\u001b[39m\n\u001b[91mversion on your system: set ENV[\"PYTHON\"] to the path/name of the python\u001b[39m\n\u001b[91mexecutable you want to use, run Pkg.build(\"PyCall\"), and re-launch Julia.\u001b[39m\n\n\u001b[91mAnother alternative is to configure PyCall to use a Julia-specific Python\u001b[39m\n\u001b[91mdistribution via the Conda.jl package (which installs a private Anaconda\u001b[39m\n\u001b[91mPython distribution), which has the advantage that packages can be installed\u001b[39m\n\u001b[91mand kept up-to-date via Julia.  As explained in the PyCall documentation,\u001b[39m\n\u001b[91mset ENV[\"PYTHON\"]=\"\", run Pkg.build(\"PyCall\"), and re-launch Julia. Then,\u001b[39m\n\u001b[91mTo install the gym module, you can use `pyimport_conda(\"gym\", PKG)`,\u001b[39m\n\u001b[91mwhere PKG is the Anaconda package that contains the module gym,\u001b[39m\n\u001b[91mor alternatively you can use the Conda package directly (via\u001b[39m\n\u001b[91m`using Conda` followed by `Conda.add` etcetera).\u001b[39m\n\n\u001b[91m) <class 'ModuleNotFoundError'>\u001b[39m\n\u001b[91mModuleNotFoundError(\"No module named 'gym'\")\u001b[39m\n",
      "",
      "Stacktrace:",
      " [1] pyimport(::String) at /home/gbrivady/.julia/packages/PyCall/7a7w0/src/PyCall.jl:550",
      " [2] top-level scope at In[11]:1",
      " [3] include_string(::Function, ::Module, ::String, ::String) at ./loading.jl:1091"
     ]
    }
   ],
   "source": [
    "gym = pyimport(\"gym\")"
   ]
  },
  {
   "cell_type": "code",
   "execution_count": null,
   "metadata": {
    "slideshow": {
     "slide_type": "fragment"
    }
   },
   "outputs": [],
   "source": [
    "env = gym.make(\"CartPole-v1\")\n",
    "n_in = 4\n",
    "n_out = 2;"
   ]
  },
  {
   "cell_type": "markdown",
   "metadata": {
    "slideshow": {
     "slide_type": "slide"
    }
   },
   "source": [
    "We'll run an entire episode, which terminates whenever the pole falls to a certain angle from the top."
   ]
  },
  {
   "cell_type": "code",
   "execution_count": null,
   "metadata": {
    "slideshow": {
     "slide_type": "fragment"
    }
   },
   "outputs": [],
   "source": [
    "function play_env(ann::SimpleANN; render=false)\n",
    "    env = gym.make(\"CartPole-v1\")\n",
    "    env.seed(0)\n",
    "    obs = env.reset()\n",
    "    total_reward = 0.0\n",
    "    done = false\n",
    "    \n",
    "    while ~done\n",
    "        action = argmax(compute(obs, ann))-1\n",
    "        obs, reward, done, _ = env.step(action)\n",
    "        if render\n",
    "            env.render()\n",
    "        end\n",
    "        total_reward += reward\n",
    "    end\n",
    "    env.close()\n",
    "    env = nothing\n",
    "    Base.GC.gc()\n",
    "    total_reward\n",
    "end"
   ]
  },
  {
   "cell_type": "markdown",
   "metadata": {
    "slideshow": {
     "slide_type": "slide"
    }
   },
   "source": [
    "With our zero network, this won't be able to last very long, as it is always taking a constant action of 0."
   ]
  },
  {
   "cell_type": "code",
   "execution_count": null,
   "metadata": {
    "slideshow": {
     "slide_type": "fragment"
    }
   },
   "outputs": [],
   "source": [
    "ann = SimpleANN(n_in, 5, 5, n_out)\n",
    "play_env(ann; render=true)"
   ]
  },
  {
   "cell_type": "markdown",
   "metadata": {
    "slideshow": {
     "slide_type": "slide"
    }
   },
   "source": [
    "Let's write a new constructor for our network which takes in genes and sets all of the network parameters. We'll then optimize these genes."
   ]
  },
  {
   "cell_type": "code",
   "execution_count": null,
   "metadata": {
    "slideshow": {
     "slide_type": "fragment"
    }
   },
   "outputs": [],
   "source": [
    "function SimpleANN(genes::Array{Float64})\n",
    "    ann = SimpleANN(n_in, 5, 5, n_out)\n",
    "    layers = [ann.l1.w, ann.l1.b, ann.l2.w, ann.l2.b, ann.out.w, ann.out.b]\n",
    "    L = 1\n",
    "    j = 1\n",
    "    for i in eachindex(genes)\n",
    "        if j > length(layers[L])\n",
    "            L += 1\n",
    "            j = 1\n",
    "        end\n",
    "        layers[L][j] = genes[i]\n",
    "        j += 1\n",
    "    end\n",
    "    ann\n",
    "end"
   ]
  },
  {
   "cell_type": "markdown",
   "metadata": {
    "slideshow": {
     "slide_type": "slide"
    }
   },
   "source": [
    "The objective function is then just to create an ANN and evaluate its performance on an episode of the CartPole benchmark. Because CMA-ES is minimizing, we'll return the negative."
   ]
  },
  {
   "cell_type": "code",
   "execution_count": null,
   "metadata": {
    "slideshow": {
     "slide_type": "fragment"
    }
   },
   "outputs": [],
   "source": [
    "function objective(genes::Array{Float64})\n",
    "    ann = SimpleANN(genes)\n",
    "    -play_env(ann)\n",
    "end"
   ]
  },
  {
   "cell_type": "markdown",
   "metadata": {
    "slideshow": {
     "slide_type": "slide"
    }
   },
   "source": [
    "Let's see how many genes we have now:"
   ]
  },
  {
   "cell_type": "code",
   "execution_count": null,
   "metadata": {
    "slideshow": {
     "slide_type": "fragment"
    }
   },
   "outputs": [],
   "source": [
    "N = n_in*5 + 5 + 5*5 + 5 + 5*n_out + n_out"
   ]
  },
  {
   "cell_type": "markdown",
   "metadata": {
    "slideshow": {
     "slide_type": "slide"
    }
   },
   "source": [
    "Now we can try a random individual, maybe it will do better!"
   ]
  },
  {
   "cell_type": "code",
   "execution_count": null,
   "metadata": {
    "slideshow": {
     "slide_type": "fragment"
    }
   },
   "outputs": [],
   "source": [
    "ann = SimpleANN(randn(N))\n",
    "play_env(ann; render=true)"
   ]
  },
  {
   "cell_type": "markdown",
   "metadata": {
    "slideshow": {
     "slide_type": "slide"
    }
   },
   "source": [
    "Let's use the CMAES function we defined in the last notebook and optimize for just a few steps."
   ]
  },
  {
   "cell_type": "code",
   "execution_count": null,
   "metadata": {
    "slideshow": {
     "slide_type": "fragment"
    }
   },
   "outputs": [],
   "source": [
    "c = CMAES(N=N, µ=10, λ=30, τ=sqrt(N), τ_c=N^2, τ_σ=sqrt(N))\n",
    "for i in 1:5\n",
    "    step!(c, objective)\n",
    "    println(i, \" \", maximum(.-c.F_λ))\n",
    "end"
   ]
  },
  {
   "cell_type": "markdown",
   "metadata": {
    "slideshow": {
     "slide_type": "fragment"
    }
   },
   "source": [
    "We might notice that our results go down. Remember that CMA-ES is not elitist! We should keep an external archive of the best results."
   ]
  },
  {
   "cell_type": "code",
   "execution_count": null,
   "metadata": {
    "slideshow": {
     "slide_type": "slide"
    }
   },
   "outputs": [],
   "source": [
    "best = nothing\n",
    "best_fit = -Inf\n",
    "c = CMAES(N=N, µ=10, λ=30, τ=sqrt(N), τ_c=N^2, τ_σ=sqrt(N))\n",
    "for i in 1:20\n",
    "    step!(c, objective)\n",
    "    bestind = argmin(c.F_λ)\n",
    "    maxfit = -c.F_λ[bestind]\n",
    "    println(i, \" \", maxfit)\n",
    "    if maxfit > best_fit\n",
    "        best = copy(c.offspring[bestind])\n",
    "        best_fit = maxfit\n",
    "    end\n",
    "    if best_fit == 500\n",
    "        break\n",
    "    end\n",
    "end"
   ]
  },
  {
   "cell_type": "markdown",
   "metadata": {
    "slideshow": {
     "slide_type": "slide"
    }
   },
   "source": [
    "Finally, we can see how the CMA-ES optimized invidual does on this benchmark."
   ]
  },
  {
   "cell_type": "code",
   "execution_count": null,
   "metadata": {
    "slideshow": {
     "slide_type": "fragment"
    }
   },
   "outputs": [],
   "source": [
    "ann = SimpleANN(best)\n",
    "play_env(ann; render=true)"
   ]
  },
  {
   "cell_type": "markdown",
   "metadata": {
    "slideshow": {
     "slide_type": "slide"
    }
   },
   "source": [
    "<div class=\"alert alert-success\">\n",
    "    <b>Exercise</b>\n",
    "    <br/>\n",
    "    We were sort of cheating before. This neural network only learned how to do well on one individual, the one which comes from seeing the environment with 0. Test is on an environment with a different seed. Does it still do well? Finally, re-run the evaluation, but don't use a random seed, or change it every time. What is the impact of a stochastic fitness on evolution?\n",
    "</div>"
   ]
  }
 ],
 "metadata": {
  "@webio": {
   "lastCommId": null,
   "lastKernelId": null
  },
  "celltoolbar": "Slideshow",
  "kernelspec": {
   "display_name": "Julia 1.5.3",
   "language": "julia",
   "name": "julia-1.5"
  },
  "language_info": {
   "file_extension": ".jl",
   "mimetype": "application/julia",
   "name": "julia",
   "version": "1.5.3"
  }
 },
 "nbformat": 4,
 "nbformat_minor": 2
}
